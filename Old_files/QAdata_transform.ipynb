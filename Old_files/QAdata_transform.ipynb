{
 "cells": [
  {
   "cell_type": "code",
   "execution_count": 1,
   "metadata": {},
   "outputs": [],
   "source": [
    "import boto3\n",
    "import os\n",
    "import time\n",
    "from typing import List, Tuple\n",
    "from dotenv import load_dotenv\n",
    "import pandas as pd\n",
    "from io import StringIO, BytesIO\n",
    "import io\n",
    "import tempfile\n",
    "import json\n",
    "load_dotenv()\n",
    "\n",
    "# # env variables\n",
    "AWS_ACCESS_KEY_ID = os.getenv('AWS_ACCESS_KEY_ID')\n",
    "AWS_SECRET_ACCESS_KEY = os.getenv('AWS_SECRET_ACCESS_KEY')\n",
    "AWS_SESSION_TOKEN = os.getenv('AWS_SESSION_TOKEN')\n",
    "REGION_NAME = os.getenv('REGION_NAME')"
   ]
  },
  {
   "cell_type": "code",
   "execution_count": 12,
   "metadata": {},
   "outputs": [
    {
     "data": {
      "text/html": [
       "<div>\n",
       "<style scoped>\n",
       "    .dataframe tbody tr th:only-of-type {\n",
       "        vertical-align: middle;\n",
       "    }\n",
       "\n",
       "    .dataframe tbody tr th {\n",
       "        vertical-align: top;\n",
       "    }\n",
       "\n",
       "    .dataframe thead th {\n",
       "        text-align: right;\n",
       "    }\n",
       "</style>\n",
       "<table border=\"1\" class=\"dataframe\">\n",
       "  <thead>\n",
       "    <tr style=\"text-align: right;\">\n",
       "      <th></th>\n",
       "      <th>pr_id</th>\n",
       "      <th>data_field_nm</th>\n",
       "      <th>field_value</th>\n",
       "    </tr>\n",
       "  </thead>\n",
       "  <tbody>\n",
       "    <tr>\n",
       "      <th>0</th>\n",
       "      <td>1318886</td>\n",
       "      <td>Audit Conduct</td>\n",
       "      <td>PurposeA routine investigator site audit of Pr...</td>\n",
       "    </tr>\n",
       "    <tr>\n",
       "      <th>1</th>\n",
       "      <td>1318886</td>\n",
       "      <td>Audit Distribution List</td>\n",
       "      <td>Judith K MurphyMelanie IvarssonJenipher Dalton...</td>\n",
       "    </tr>\n",
       "  </tbody>\n",
       "</table>\n",
       "</div>"
      ],
      "text/plain": [
       "     pr_id            data_field_nm  \\\n",
       "0  1318886            Audit Conduct   \n",
       "1  1318886  Audit Distribution List   \n",
       "\n",
       "                                         field_value  \n",
       "0  PurposeA routine investigator site audit of Pr...  \n",
       "1  Judith K MurphyMelanie IvarssonJenipher Dalton...  "
      ]
     },
     "execution_count": 12,
     "metadata": {},
     "output_type": "execute_result"
    }
   ],
   "source": [
    "from botocore.exceptions import ClientError\n",
    "\n",
    "s3 = boto3.client('s3', region_name=REGION_NAME, aws_access_key_id=AWS_ACCESS_KEY_ID,\n",
    "                  aws_secret_access_key=AWS_SECRET_ACCESS_KEY, aws_session_token=AWS_SESSION_TOKEN)\n",
    "\n",
    "bucket_name = \"ref-pr-detail-trkw-glbl\"\n",
    "object_key = \"QA-data/smart_audits_trkw_audit_fields.xlsx\"\n",
    "data = pd.DataFrame()\n",
    "file = s3.get_object(Bucket=bucket_name, Key=object_key)\n",
    "data = file['Body'].read()\n",
    "df = pd.read_excel(io.BytesIO(data))\n",
    "\n",
    "df.head(2)"
   ]
  },
  {
   "cell_type": "code",
   "execution_count": 13,
   "metadata": {},
   "outputs": [
    {
     "data": {
      "text/html": [
       "<div>\n",
       "<style scoped>\n",
       "    .dataframe tbody tr th:only-of-type {\n",
       "        vertical-align: middle;\n",
       "    }\n",
       "\n",
       "    .dataframe tbody tr th {\n",
       "        vertical-align: top;\n",
       "    }\n",
       "\n",
       "    .dataframe thead th {\n",
       "        text-align: right;\n",
       "    }\n",
       "</style>\n",
       "<table border=\"1\" class=\"dataframe\">\n",
       "  <thead>\n",
       "    <tr style=\"text-align: right;\">\n",
       "      <th>data_field_nm</th>\n",
       "      <th>pr_id</th>\n",
       "      <th>Audit Category</th>\n",
       "      <th>Audit Classification (R&amp;D)</th>\n",
       "      <th>Audit Conduct</th>\n",
       "      <th>Audit Conduct Comments</th>\n",
       "      <th>Audit Country</th>\n",
       "      <th>Audit Date - Performed (End)</th>\n",
       "      <th>Audit Date - Performed (Start)</th>\n",
       "      <th>Audit Distribution List</th>\n",
       "      <th>Audit Execution</th>\n",
       "      <th>...</th>\n",
       "      <th>Study Number</th>\n",
       "      <th>Study Protocols</th>\n",
       "      <th>Submitted for Audit Appr. by</th>\n",
       "      <th>Submitted for Audit Appr. on</th>\n",
       "      <th>Supplier Location</th>\n",
       "      <th>Supplier Locations</th>\n",
       "      <th>Supporting QAC Group</th>\n",
       "      <th>Therapeutic Area</th>\n",
       "      <th>Trackwise Reference Record</th>\n",
       "      <th>Year Planned</th>\n",
       "    </tr>\n",
       "  </thead>\n",
       "  <tbody>\n",
       "    <tr>\n",
       "      <th>0</th>\n",
       "      <td>1318886</td>\n",
       "      <td>Routine</td>\n",
       "      <td>Acceptable</td>\n",
       "      <td>PurposeA routine investigator site audit of Pr...</td>\n",
       "      <td>NaN</td>\n",
       "      <td>NaN</td>\n",
       "      <td>2018-10-24 00:00:00</td>\n",
       "      <td>2018-10-23 00:00:00</td>\n",
       "      <td>Judith K MurphyMelanie IvarssonJenipher Dalton...</td>\n",
       "      <td>On-Site Audit</td>\n",
       "      <td>...</td>\n",
       "      <td>NaN</td>\n",
       "      <td>1317557</td>\n",
       "      <td>Popiolek, Sherry</td>\n",
       "      <td>2018-11-29 14:03:00</td>\n",
       "      <td>1317774</td>\n",
       "      <td>NaN</td>\n",
       "      <td>Clinical &amp; Medical Compliance</td>\n",
       "      <td>NaN</td>\n",
       "      <td>NaN</td>\n",
       "      <td>2018</td>\n",
       "    </tr>\n",
       "    <tr>\n",
       "      <th>1</th>\n",
       "      <td>1318890</td>\n",
       "      <td>Routine</td>\n",
       "      <td>Acceptable</td>\n",
       "      <td>PurposeA routine investigator site audit of Pr...</td>\n",
       "      <td>NaN</td>\n",
       "      <td>NaN</td>\n",
       "      <td>2018-10-26 00:00:00</td>\n",
       "      <td>2018-10-25 00:00:00</td>\n",
       "      <td>Judith K MurphyMelanie IvarssonJenipher Dalton...</td>\n",
       "      <td>On-Site Audit</td>\n",
       "      <td>...</td>\n",
       "      <td>NaN</td>\n",
       "      <td>1317562</td>\n",
       "      <td>Popiolek, Sherry</td>\n",
       "      <td>2018-11-29 14:47:00</td>\n",
       "      <td>1317774</td>\n",
       "      <td>NaN</td>\n",
       "      <td>Clinical &amp; Medical Compliance</td>\n",
       "      <td>NaN</td>\n",
       "      <td>NaN</td>\n",
       "      <td>2018</td>\n",
       "    </tr>\n",
       "  </tbody>\n",
       "</table>\n",
       "<p>2 rows × 69 columns</p>\n",
       "</div>"
      ],
      "text/plain": [
       "data_field_nm    pr_id Audit Category Audit Classification (R&D)  \\\n",
       "0              1318886        Routine                 Acceptable   \n",
       "1              1318890        Routine                 Acceptable   \n",
       "\n",
       "data_field_nm                                      Audit Conduct  \\\n",
       "0              PurposeA routine investigator site audit of Pr...   \n",
       "1              PurposeA routine investigator site audit of Pr...   \n",
       "\n",
       "data_field_nm Audit Conduct Comments Audit Country  \\\n",
       "0                                NaN           NaN   \n",
       "1                                NaN           NaN   \n",
       "\n",
       "data_field_nm Audit Date - Performed (End) Audit Date - Performed (Start)  \\\n",
       "0                      2018-10-24 00:00:00            2018-10-23 00:00:00   \n",
       "1                      2018-10-26 00:00:00            2018-10-25 00:00:00   \n",
       "\n",
       "data_field_nm                            Audit Distribution List  \\\n",
       "0              Judith K MurphyMelanie IvarssonJenipher Dalton...   \n",
       "1              Judith K MurphyMelanie IvarssonJenipher Dalton...   \n",
       "\n",
       "data_field_nm Audit Execution  ... Study Number Study Protocols  \\\n",
       "0               On-Site Audit  ...          NaN         1317557   \n",
       "1               On-Site Audit  ...          NaN         1317562   \n",
       "\n",
       "data_field_nm Submitted for Audit Appr. by Submitted for Audit Appr. on  \\\n",
       "0                         Popiolek, Sherry          2018-11-29 14:03:00   \n",
       "1                         Popiolek, Sherry          2018-11-29 14:47:00   \n",
       "\n",
       "data_field_nm Supplier Location Supplier Locations  \\\n",
       "0                       1317774                NaN   \n",
       "1                       1317774                NaN   \n",
       "\n",
       "data_field_nm           Supporting QAC Group Therapeutic Area  \\\n",
       "0              Clinical & Medical Compliance              NaN   \n",
       "1              Clinical & Medical Compliance              NaN   \n",
       "\n",
       "data_field_nm Trackwise Reference Record Year Planned  \n",
       "0                                    NaN         2018  \n",
       "1                                    NaN         2018  \n",
       "\n",
       "[2 rows x 69 columns]"
      ]
     },
     "execution_count": 13,
     "metadata": {},
     "output_type": "execute_result"
    }
   ],
   "source": [
    "df_pivot = df.pivot_table(index='pr_id', columns='data_field_nm', values='field_value', \n",
    "                          aggfunc='first').reset_index()\n",
    "df_pivot.fillna(\"NaN\") \n",
    "df_pivot.head(2)"
   ]
  },
  {
   "cell_type": "code",
   "execution_count": 15,
   "metadata": {},
   "outputs": [
    {
     "name": "stdout",
     "output_type": "stream",
     "text": [
      "<class 'pandas.core.frame.DataFrame'>\n",
      "RangeIndex: 3043 entries, 0 to 3042\n",
      "Data columns (total 69 columns):\n",
      " #   Column                          Non-Null Count  Dtype \n",
      "---  ------                          --------------  ----- \n",
      " 0   pr_id                           3043 non-null   int64 \n",
      " 1   Audit Category                  3043 non-null   object\n",
      " 2   Audit Classification (R&D)      3043 non-null   object\n",
      " 3   Audit Conduct                   3043 non-null   object\n",
      " 4   Audit Conduct Comments          3043 non-null   object\n",
      " 5   Audit Country                   3043 non-null   object\n",
      " 6   Audit Date - Performed (End)    3043 non-null   object\n",
      " 7   Audit Date - Performed (Start)  3043 non-null   object\n",
      " 8   Audit Distribution List         3043 non-null   object\n",
      " 9   Audit Execution                 3043 non-null   object\n",
      " 10  Audit Plan Attachments          3043 non-null   object\n",
      " 11  Audit Scheduled End Date        3043 non-null   object\n",
      " 12  Audit Scheduled Start Date      3043 non-null   object\n",
      " 13  Audit Scheduled by              3043 non-null   object\n",
      " 14  Audit Scheduled on              3043 non-null   object\n",
      " 15  Audit Subtype (R&D)             3043 non-null   object\n",
      " 16  Audit Subtype Category          3043 non-null   object\n",
      " 17  Audit Type (R&D)                3043 non-null   object\n",
      " 18  Auditor(s)                      3043 non-null   object\n",
      " 19  CRO/Supplier                    3043 non-null   object\n",
      " 20  Canceled by                     3043 non-null   object\n",
      " 21  Canceled on                     3043 non-null   object\n",
      " 22  Closed by                       3043 non-null   object\n",
      " 23  Closed on                       3043 non-null   object\n",
      " 24  Co - Auditors                   3043 non-null   object\n",
      " 25  Date Acknowledged by Study Dir  3043 non-null   object\n",
      " 26  Date Acknowledged by TFM        3043 non-null   object\n",
      " 27  Date Escalated to CoE Head      3043 non-null   object\n",
      " 28  Description                     3043 non-null   object\n",
      " 29  Escalated Name                  3043 non-null   object\n",
      " 30  Escalated to CoE Head           3043 non-null   object\n",
      " 31  Escalated to CoE Head?          3043 non-null   object\n",
      " 32  Executive Summary (R&D)         3043 non-null   object\n",
      " 33  File Attachments                3043 non-null   object\n",
      " 34  Final Report Issuance Date      3043 non-null   object\n",
      " 35  Final Report Issued By          3043 non-null   object\n",
      " 36  Initial Audit Report Due Date   3043 non-null   object\n",
      " 37  Initial Report Issuance Date    3043 non-null   object\n",
      " 38  Initial Report Issued By        3043 non-null   object\n",
      " 39  Inspected Since Last Audit      3043 non-null   object\n",
      " 40  Investigator Site PI Address    3043 non-null   object\n",
      " 41  Investigator Site PI Name       3043 non-null   object\n",
      " 42  Management Review Required?     3043 non-null   object\n",
      " 43  Non Clinical Subtype            3043 non-null   object\n",
      " 44  Observations Identified?        3043 non-null   object\n",
      " 45  Old Audit Distribution List     3043 non-null   object\n",
      " 46  Peer or Manager Review          3043 non-null   object\n",
      " 47  Program                         3043 non-null   object\n",
      " 48  Program Lead                    3043 non-null   object\n",
      " 49  Quarter Planned                 3043 non-null   object\n",
      " 50  Reason for Change               3043 non-null   object\n",
      " 51  Reason for Change 2             3043 non-null   object\n",
      " 52  Reason for Change 3             3043 non-null   object\n",
      " 53  Region (R&D)                    3043 non-null   object\n",
      " 54  Regulatory Focus                3043 non-null   object\n",
      " 55  Related Quality Event Records   3043 non-null   object\n",
      " 56  Response Due Date               3043 non-null   object\n",
      " 57  Response Due Date A             3043 non-null   object\n",
      " 58  Reviewed by Management          3043 non-null   object\n",
      " 59  Study Number                    3043 non-null   object\n",
      " 60  Study Protocols                 3043 non-null   object\n",
      " 61  Submitted for Audit Appr. by    3043 non-null   object\n",
      " 62  Submitted for Audit Appr. on    3043 non-null   object\n",
      " 63  Supplier Location               3043 non-null   object\n",
      " 64  Supplier Locations              3043 non-null   object\n",
      " 65  Supporting QAC Group            3043 non-null   object\n",
      " 66  Therapeutic Area                3043 non-null   object\n",
      " 67  Trackwise Reference Record      3043 non-null   object\n",
      " 68  Year Planned                    3043 non-null   object\n",
      "dtypes: int64(1), object(68)\n",
      "memory usage: 1.6+ MB\n"
     ]
    }
   ],
   "source": [
    "df_pivot.fillna(\"NA\",inplace=True)\n",
    "df_pivot.info()"
   ]
  },
  {
   "cell_type": "code",
   "execution_count": null,
   "metadata": {},
   "outputs": [],
   "source": [
    "columns_to_chunk = df_pivot.columns"
   ]
  },
  {
   "cell_type": "code",
   "execution_count": 30,
   "metadata": {},
   "outputs": [
    {
     "data": {
      "text/plain": [
       "69"
      ]
     },
     "execution_count": 30,
     "metadata": {},
     "output_type": "execute_result"
    }
   ],
   "source": [
    "len(columns_to_chunk)"
   ]
  },
  {
   "cell_type": "code",
   "execution_count": 31,
   "metadata": {},
   "outputs": [],
   "source": [
    "new_df = pd.DataFrame()\n",
    "new_df['combined_text'] = df_pivot[columns_to_chunk].apply(\n",
    "    lambda row: ' '.join([f\"{col}: {row[col]} \" for col in columns_to_chunk]), axis=1)\n"
   ]
  },
  {
   "cell_type": "code",
   "execution_count": 32,
   "metadata": {},
   "outputs": [
    {
     "data": {
      "text/html": [
       "<div>\n",
       "<style scoped>\n",
       "    .dataframe tbody tr th:only-of-type {\n",
       "        vertical-align: middle;\n",
       "    }\n",
       "\n",
       "    .dataframe tbody tr th {\n",
       "        vertical-align: top;\n",
       "    }\n",
       "\n",
       "    .dataframe thead th {\n",
       "        text-align: right;\n",
       "    }\n",
       "</style>\n",
       "<table border=\"1\" class=\"dataframe\">\n",
       "  <thead>\n",
       "    <tr style=\"text-align: right;\">\n",
       "      <th></th>\n",
       "      <th>combined_text</th>\n",
       "    </tr>\n",
       "  </thead>\n",
       "  <tbody>\n",
       "    <tr>\n",
       "      <th>0</th>\n",
       "      <td>pr_id: 1318886  Audit Category: Routine  Audit...</td>\n",
       "    </tr>\n",
       "    <tr>\n",
       "      <th>1</th>\n",
       "      <td>pr_id: 1318890  Audit Category: Routine  Audit...</td>\n",
       "    </tr>\n",
       "  </tbody>\n",
       "</table>\n",
       "</div>"
      ],
      "text/plain": [
       "                                       combined_text\n",
       "0  pr_id: 1318886  Audit Category: Routine  Audit...\n",
       "1  pr_id: 1318890  Audit Category: Routine  Audit..."
      ]
     },
     "execution_count": 32,
     "metadata": {},
     "output_type": "execute_result"
    }
   ],
   "source": [
    "new_df.head(2)"
   ]
  },
  {
   "cell_type": "code",
   "execution_count": 16,
   "metadata": {},
   "outputs": [],
   "source": [
    "df_pivot.to_csv(\"qa_data.csv\",index=False)"
   ]
  },
  {
   "cell_type": "code",
   "execution_count": null,
   "metadata": {},
   "outputs": [],
   "source": [
    "# pd.set_option(\"display.max_colwidth\", None)"
   ]
  },
  {
   "cell_type": "code",
   "execution_count": 11,
   "metadata": {},
   "outputs": [
    {
     "ename": "AttributeError",
     "evalue": "'NoneType' object has no attribute 'fillna'",
     "output_type": "error",
     "traceback": [
      "\u001b[1;31m---------------------------------------------------------------------------\u001b[0m",
      "\u001b[1;31mAttributeError\u001b[0m                            Traceback (most recent call last)",
      "Cell \u001b[1;32mIn[11], line 1\u001b[0m\n\u001b[1;32m----> 1\u001b[0m \u001b[43mdf_pivot\u001b[49m\u001b[38;5;241;43m.\u001b[39;49m\u001b[43mfillna\u001b[49m(\u001b[38;5;124m\"\u001b[39m\u001b[38;5;124mNA\u001b[39m\u001b[38;5;124m\"\u001b[39m)\n",
      "\u001b[1;31mAttributeError\u001b[0m: 'NoneType' object has no attribute 'fillna'"
     ]
    }
   ],
   "source": [
    "df_pivot.fillna(\"NA\")\n"
   ]
  },
  {
   "cell_type": "code",
   "execution_count": null,
   "metadata": {},
   "outputs": [],
   "source": []
  }
 ],
 "metadata": {
  "kernelspec": {
   "display_name": "Python 3",
   "language": "python",
   "name": "python3"
  },
  "language_info": {
   "codemirror_mode": {
    "name": "ipython",
    "version": 3
   },
   "file_extension": ".py",
   "mimetype": "text/x-python",
   "name": "python",
   "nbconvert_exporter": "python",
   "pygments_lexer": "ipython3",
   "version": "3.12.5"
  }
 },
 "nbformat": 4,
 "nbformat_minor": 2
}
